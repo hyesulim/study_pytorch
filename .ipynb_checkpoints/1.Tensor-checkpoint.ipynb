{
 "cells": [
  {
   "cell_type": "markdown",
   "metadata": {},
   "source": [
    "url : https://www.youtube.com/watch?v=VKhFeh92eps&t=4s\n",
    "\n",
    "Pytorch란?\n",
    "파이썬 기반 패키지로, Numpy의 연산을 GPU로 가속화할 수 있게 함.\n",
    "\n",
    "**[목차]**\n",
    "1. Torch의 Tensor\n",
    "2. Tensor의 선언\n",
    "3. Numpy to Tensor\n",
    "4. Tensor to Numpy\n",
    "5. Tensor의 view\n",
    "6. Tensor의 cat\n",
    "7. Tensor의 mean, sum\n",
    "8. Tensor의 GPU 연산\n",
    "\n",
    "#### 1. Torch의 Tensor\n",
    "- Tensor는 pytorch의 자료 형으로 단일 데이터 타입으로 된 자료들의 다차원 행렬임.\n",
    "- Tensor는 간단한 명령어를 통해서 GPU로 연산을 수행하게 만들 수 있음.\n",
    "- Tensor 변수 뒤에 .cuda()를 추가하면 됨.\n",
    "- Tensor의 종류는 float, Double 등이 있고 CPU Tensor와 GPU Tensor가 있음."
   ]
  },
  {
   "cell_type": "markdown",
   "metadata": {},
   "source": [
    "#### 2. Tensor의 선언"
   ]
  },
  {
   "cell_type": "code",
   "execution_count": 2,
   "metadata": {
    "collapsed": false
   },
   "outputs": [],
   "source": [
    "import torch"
   ]
  },
  {
   "cell_type": "markdown",
   "metadata": {},
   "source": [
    "torch.Tensor(크기) 로 선언하며, default로 floatTensor가 만들어짐."
   ]
  },
  {
   "cell_type": "code",
   "execution_count": 3,
   "metadata": {
    "collapsed": false
   },
   "outputs": [
    {
     "data": {
      "text/plain": [
       "tensor([-9.7401e+05,  4.5902e-41, -9.7401e+05])"
      ]
     },
     "execution_count": 3,
     "metadata": {},
     "output_type": "execute_result"
    }
   ],
   "source": [
    "# torch.Tensor(크기), 1차원 크기가 3\n",
    "x=torch.Tensor(3)\n",
    "x"
   ]
  },
  {
   "cell_type": "code",
   "execution_count": 4,
   "metadata": {
    "collapsed": false
   },
   "outputs": [
    {
     "data": {
      "text/plain": [
       "tensor([[       0.0000,        0.0000, -3816732.0000],\n",
       "        [       0.0000,       -0.0352,        0.0000],\n",
       "        [-3890840.0000,        0.0000,        0.0000]])"
      ]
     },
     "execution_count": 4,
     "metadata": {},
     "output_type": "execute_result"
    }
   ],
   "source": [
    "# 3x3 인 2차원 행렬\n",
    "x2 = torch.Tensor(3,3)\n",
    "x2"
   ]
  },
  {
   "cell_type": "markdown",
   "metadata": {},
   "source": [
    "#### 3. Tensor의 random 선언"
   ]
  },
  {
   "cell_type": "code",
   "execution_count": 5,
   "metadata": {
    "collapsed": false
   },
   "outputs": [
    {
     "data": {
      "text/plain": [
       "tensor([[0.5238, 0.0442, 0.8026],\n",
       "        [0.8273, 0.8513, 0.4949],\n",
       "        [0.7589, 0.1611, 0.9587]])"
      ]
     },
     "execution_count": 5,
     "metadata": {},
     "output_type": "execute_result"
    }
   ],
   "source": [
    "# rand : 0에서 1 사이의 uniform distribution random 값으로 선언\n",
    "a = torch.rand(3,3)\n",
    "a"
   ]
  },
  {
   "cell_type": "code",
   "execution_count": 6,
   "metadata": {
    "collapsed": false
   },
   "outputs": [
    {
     "data": {
      "text/plain": [
       "tensor([[ 0.0492, -1.8733,  1.8210],\n",
       "        [ 1.6929, -0.8383, -0.6945],\n",
       "        [-0.9241, -1.0083,  1.9984]])"
      ]
     },
     "execution_count": 6,
     "metadata": {},
     "output_type": "execute_result"
    }
   ],
   "source": [
    "# randn : 평균이 0이고, 분산이 1인 normal distribution random 값으로 선언\n",
    "b = torch.randn(3,3)\n",
    "b"
   ]
  },
  {
   "cell_type": "markdown",
   "metadata": {},
   "source": [
    "#### 4. Numpy에서 Tensor로"
   ]
  },
  {
   "cell_type": "markdown",
   "metadata": {},
   "source": [
    "numpy 에서 생성된 array를 tensor로 변환\n",
    "\n",
    "torch.Tensor(numpy array)"
   ]
  },
  {
   "cell_type": "code",
   "execution_count": 7,
   "metadata": {
    "collapsed": true
   },
   "outputs": [],
   "source": [
    "import numpy as np"
   ]
  },
  {
   "cell_type": "code",
   "execution_count": 9,
   "metadata": {
    "collapsed": false
   },
   "outputs": [
    {
     "data": {
      "text/plain": [
       "tensor([1., 2., 3., 4.])"
      ]
     },
     "execution_count": 9,
     "metadata": {},
     "output_type": "execute_result"
    }
   ],
   "source": [
    "c = np.array([1,2,3,4])\n",
    "d = torch.Tensor(c)\n",
    "d"
   ]
  },
  {
   "cell_type": "markdown",
   "metadata": {},
   "source": [
    "#### 5. Tensor에서 Numpy"
   ]
  },
  {
   "cell_type": "markdown",
   "metadata": {},
   "source": [
    "tensor를 numpy로 변환\n",
    "\n",
    "Tensor_A.numpy()"
   ]
  },
  {
   "cell_type": "code",
   "execution_count": 10,
   "metadata": {
    "collapsed": false
   },
   "outputs": [
    {
     "data": {
      "text/plain": [
       "array([[0.9952328 , 0.47932202, 0.18663388],\n",
       "       [0.04709536, 0.29603964, 0.60475117],\n",
       "       [0.5830979 , 0.4129746 , 0.82260716]], dtype=float32)"
      ]
     },
     "execution_count": 10,
     "metadata": {},
     "output_type": "execute_result"
    }
   ],
   "source": [
    "e = torch.rand(3,3)\n",
    "f = e.numpy()\n",
    "f"
   ]
  },
  {
   "cell_type": "markdown",
   "metadata": {},
   "source": [
    "#### 6. Tensor의 형태 변환 (view)"
   ]
  },
  {
   "cell_type": "markdown",
   "metadata": {},
   "source": [
    "행렬의 형태 변환. view를 사용."
   ]
  },
  {
   "cell_type": "code",
   "execution_count": 13,
   "metadata": {
    "collapsed": false
   },
   "outputs": [
    {
     "data": {
      "text/plain": [
       "tensor([[0.7279, 0.3098, 0.3187],\n",
       "        [0.9952, 0.9025, 0.9282],\n",
       "        [0.9870, 0.4076, 0.4622]])"
      ]
     },
     "execution_count": 13,
     "metadata": {},
     "output_type": "execute_result"
    }
   ],
   "source": [
    "# 3x3 2차원 행렬\n",
    "g = torch.rand(3,3)\n",
    "g"
   ]
  },
  {
   "cell_type": "code",
   "execution_count": 15,
   "metadata": {
    "collapsed": false
   },
   "outputs": [
    {
     "data": {
      "text/plain": [
       "tensor([[[[0.7279, 0.3098, 0.3187],\n",
       "          [0.9952, 0.9025, 0.9282],\n",
       "          [0.9870, 0.4076, 0.4622]]]])"
      ]
     },
     "execution_count": 15,
     "metadata": {},
     "output_type": "execute_result"
    }
   ],
   "source": [
    "# 1x1x3x3 4차원 행렬\n",
    "g = g.view(1,1,3,3)\n",
    "g"
   ]
  },
  {
   "cell_type": "markdown",
   "metadata": {},
   "source": [
    "#### 7. Tensor 합치기"
   ]
  },
  {
   "cell_type": "markdown",
   "metadata": {},
   "source": [
    "torch.cat((Tensor_A, Tensor_B), dim) 여러개의 tensor를 특정 차원에 맞게 합칠 수 있는 함수.\n",
    "두개의 텐서를 이어 붙임. dim 은 붙이고자 하는 차원"
   ]
  },
  {
   "cell_type": "code",
   "execution_count": 16,
   "metadata": {
    "collapsed": true
   },
   "outputs": [],
   "source": [
    "t1= torch.randn(1,1,3,3)\n",
    "t2 = torch.randn(1,1,3,3)"
   ]
  },
  {
   "cell_type": "code",
   "execution_count": 17,
   "metadata": {
    "collapsed": false
   },
   "outputs": [
    {
     "data": {
      "text/plain": [
       "tensor([[[[-0.1796, -1.0482, -1.1168],\n",
       "          [ 0.6346,  0.4550, -1.3169],\n",
       "          [-0.4109,  1.9052, -0.0394]]]])"
      ]
     },
     "execution_count": 17,
     "metadata": {},
     "output_type": "execute_result"
    }
   ],
   "source": [
    "t1"
   ]
  },
  {
   "cell_type": "code",
   "execution_count": 18,
   "metadata": {
    "collapsed": false
   },
   "outputs": [
    {
     "data": {
      "text/plain": [
       "tensor([[[[-0.1213, -0.6125, -0.6018],\n",
       "          [ 1.4280, -1.1580,  0.6506],\n",
       "          [-0.1472, -1.4417,  1.6785]]]])"
      ]
     },
     "execution_count": 18,
     "metadata": {},
     "output_type": "execute_result"
    }
   ],
   "source": [
    "t2"
   ]
  },
  {
   "cell_type": "code",
   "execution_count": 22,
   "metadata": {
    "collapsed": false
   },
   "outputs": [
    {
     "data": {
      "text/plain": [
       "tensor([[[[-0.1796, -1.0482, -1.1168],\n",
       "          [ 0.6346,  0.4550, -1.3169],\n",
       "          [-0.4109,  1.9052, -0.0394]]],\n",
       "\n",
       "\n",
       "        [[[-0.1213, -0.6125, -0.6018],\n",
       "          [ 1.4280, -1.1580,  0.6506],\n",
       "          [-0.1472, -1.4417,  1.6785]]]])"
      ]
     },
     "execution_count": 22,
     "metadata": {},
     "output_type": "execute_result"
    }
   ],
   "source": [
    "t30 = torch.cat((t1,t2),0)\n",
    "t30"
   ]
  },
  {
   "cell_type": "code",
   "execution_count": 23,
   "metadata": {
    "collapsed": false
   },
   "outputs": [
    {
     "data": {
      "text/plain": [
       "tensor([[[[-0.1796, -1.0482, -1.1168],\n",
       "          [ 0.6346,  0.4550, -1.3169],\n",
       "          [-0.4109,  1.9052, -0.0394]],\n",
       "\n",
       "         [[-0.1213, -0.6125, -0.6018],\n",
       "          [ 1.4280, -1.1580,  0.6506],\n",
       "          [-0.1472, -1.4417,  1.6785]]]])"
      ]
     },
     "execution_count": 23,
     "metadata": {},
     "output_type": "execute_result"
    }
   ],
   "source": [
    "t31 = torch.cat((t1,t2),1)\n",
    "t31"
   ]
  },
  {
   "cell_type": "code",
   "execution_count": 24,
   "metadata": {
    "collapsed": false
   },
   "outputs": [
    {
     "data": {
      "text/plain": [
       "tensor([[[[-0.1796, -1.0482, -1.1168],\n",
       "          [ 0.6346,  0.4550, -1.3169],\n",
       "          [-0.4109,  1.9052, -0.0394],\n",
       "          [-0.1213, -0.6125, -0.6018],\n",
       "          [ 1.4280, -1.1580,  0.6506],\n",
       "          [-0.1472, -1.4417,  1.6785]]]])"
      ]
     },
     "execution_count": 24,
     "metadata": {},
     "output_type": "execute_result"
    }
   ],
   "source": [
    "t32 = torch.cat((t1,t2),dim=2)\n",
    "t32"
   ]
  },
  {
   "cell_type": "code",
   "execution_count": 25,
   "metadata": {
    "collapsed": false
   },
   "outputs": [
    {
     "data": {
      "text/plain": [
       "tensor([[[[-0.1796, -1.0482, -1.1168, -0.1213, -0.6125, -0.6018],\n",
       "          [ 0.6346,  0.4550, -1.3169,  1.4280, -1.1580,  0.6506],\n",
       "          [-0.4109,  1.9052, -0.0394, -0.1472, -1.4417,  1.6785]]]])"
      ]
     },
     "execution_count": 25,
     "metadata": {},
     "output_type": "execute_result"
    }
   ],
   "source": [
    "t33 = torch.cat((t1,t2),3)\n",
    "t33"
   ]
  },
  {
   "cell_type": "markdown",
   "metadata": {},
   "source": [
    "#### 8. Tensor 계산을 GPU"
   ]
  },
  {
   "cell_type": "code",
   "execution_count": 28,
   "metadata": {
    "collapsed": true
   },
   "outputs": [],
   "source": [
    "x = torch.rand(3,3)\n",
    "y = torch.rand(3,3)"
   ]
  },
  {
   "cell_type": "code",
   "execution_count": 31,
   "metadata": {
    "collapsed": false,
    "scrolled": true
   },
   "outputs": [
    {
     "data": {
      "text/plain": [
       "tensor([[0.3349, 0.4465, 0.8034],\n",
       "        [0.8794, 0.9654, 0.5880],\n",
       "        [0.7554, 0.5232, 0.0335]], device='cuda:0')"
      ]
     },
     "execution_count": 31,
     "metadata": {},
     "output_type": "execute_result"
    }
   ],
   "source": [
    "x"
   ]
  },
  {
   "cell_type": "code",
   "execution_count": 32,
   "metadata": {
    "collapsed": false
   },
   "outputs": [
    {
     "data": {
      "text/plain": [
       "tensor([[0.6500, 0.2014, 0.3785],\n",
       "        [0.3951, 0.1869, 0.6048],\n",
       "        [0.0492, 0.6985, 0.1968]], device='cuda:0')"
      ]
     },
     "execution_count": 32,
     "metadata": {},
     "output_type": "execute_result"
    }
   ],
   "source": [
    "y"
   ]
  },
  {
   "cell_type": "code",
   "execution_count": 29,
   "metadata": {
    "collapsed": true
   },
   "outputs": [],
   "source": [
    "if torch.cuda.is_available():\n",
    "    x=x.cuda()\n",
    "    y=y.cuda()\n",
    "    sum = x+y"
   ]
  },
  {
   "cell_type": "code",
   "execution_count": 30,
   "metadata": {
    "collapsed": false
   },
   "outputs": [
    {
     "data": {
      "text/plain": [
       "tensor([[0.9849, 0.6480, 1.1819],\n",
       "        [1.2745, 1.1523, 1.1927],\n",
       "        [0.8046, 1.2218, 0.2304]], device='cuda:0')"
      ]
     },
     "execution_count": 30,
     "metadata": {},
     "output_type": "execute_result"
    }
   ],
   "source": [
    "sum"
   ]
  },
  {
   "cell_type": "markdown",
   "metadata": {},
   "source": [
    "Tensor_A.mean() #Tensor_A의 평균.\n",
    "\n",
    "Tensor_A.sum() #Tensor_A의 원소합.\n",
    "\n",
    "등 많은 함수 이미 구현되어 있음."
   ]
  },
  {
   "cell_type": "code",
   "execution_count": null,
   "metadata": {
    "collapsed": true
   },
   "outputs": [],
   "source": []
  }
 ],
 "metadata": {
  "anaconda-cloud": {},
  "kernelspec": {
   "display_name": "Python [conda env:anaconda3]",
   "language": "python",
   "name": "conda-env-anaconda3-py"
  },
  "language_info": {
   "codemirror_mode": {
    "name": "ipython",
    "version": 3
   },
   "file_extension": ".py",
   "mimetype": "text/x-python",
   "name": "python",
   "nbconvert_exporter": "python",
   "pygments_lexer": "ipython3",
   "version": "3.5.2"
  }
 },
 "nbformat": 4,
 "nbformat_minor": 1
}
